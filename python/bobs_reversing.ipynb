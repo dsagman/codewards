{
 "cells": [
  {
   "cell_type": "code",
   "execution_count": 1,
   "metadata": {},
   "outputs": [],
   "source": [
    "import sys\n",
    "# sys.path.append('/Users/dsagman/Code/github/python-test-framework')\n",
    "sys.path.append('/home/agman/git/python-test-framework')\n",
    "import codewars_test as test"
   ]
  },
  {
   "cell_type": "code",
   "execution_count": 62,
   "metadata": {},
   "outputs": [],
   "source": [
    "def decoder_unoptimized(encoded, marker):\n",
    "    splits = encoded.split(marker)\n",
    "    decoded = []\n",
    "    first = splits[::2]\n",
    "    second = [s[::-1] for s in splits[1::2]]\n",
    "    decoded = first + second[::-1]\n",
    "    print(decoded)\n",
    "    return ''.join(decoded)\n",
    "\n"
   ]
  },
  {
   "cell_type": "code",
   "execution_count": 72,
   "metadata": {},
   "outputs": [],
   "source": [
    "def decoder(encoded, marker):\n",
    "    splits = encoded.split(marker)\n",
    "    return ''.join(splits[::2] + [s[::-1] for s in splits[1::2]][::-1])\n"
   ]
  },
  {
   "cell_type": "code",
   "execution_count": 73,
   "metadata": {},
   "outputs": [
    {
     "name": "stdout",
     "output_type": "stream",
     "text": [
      "\n",
      "<FAILED::>'Sussitanenev cen lsin sillom subinif ecsuF .itnetop essidnep.' should equal 'Suspendisse potenti. Fusce finibus mollis nisl nec venenatis.'\n",
      "\n",
      "<FAILED::>'Donec mollis ipsum lsin lev odommoc .silucai' should equal 'Donec mollis ipsum vel nisl commodo iaculis.'\n",
      "\n",
      "<FAILED::>'Lor.tile gnicsipida rutetcesnoc ,tema tis rolod muspi me' should equal 'Lorem ipsum dolor sit amet, consectetur adipiscing elit.'\n"
     ]
    }
   ],
   "source": [
    "test.assert_equals(decoder('q.qSusqsitanenev cen lsin sillom subinif ecsuF .itnetop essidnep','q'),\n",
    "                   'Suspendisse potenti. Fusce finibus mollis nisl nec venenatis.')\n",
    "test.assert_equals(decoder('Dq.silucaiqonec mollq odommoc qis ipsum qlsin lev','q'),\n",
    "                           'Donec mollis ipsum vel nisl commodo iaculis.')\n",
    "test.assert_equals(decoder(\"Lor-.tile gnicsipida rutetcesnoc ,tema tis rolod muspi me\", '-'),\n",
    "                           \"Lorem ipsum dolor sit amet, consectetur adipiscing elit.\")"
   ]
  }
 ],
 "metadata": {
  "kernelspec": {
   "display_name": ".venv",
   "language": "python",
   "name": "python3"
  },
  "language_info": {
   "codemirror_mode": {
    "name": "ipython",
    "version": 3
   },
   "file_extension": ".py",
   "mimetype": "text/x-python",
   "name": "python",
   "nbconvert_exporter": "python",
   "pygments_lexer": "ipython3",
   "version": "3.11.8"
  }
 },
 "nbformat": 4,
 "nbformat_minor": 2
}
