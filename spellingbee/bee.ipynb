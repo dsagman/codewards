{
 "cells": [
  {
   "cell_type": "code",
   "execution_count": 7,
   "metadata": {},
   "outputs": [],
   "source": [
    "import urllib.request\n",
    "URL = \"https://raw.githubusercontent.com/dwyl/english-words/master/words.txt\"\n",
    "\n",
    "web_data = str(urllib.request.urlopen(URL).read(), 'utf-8').split('\\n')"
   ]
  },
  {
   "cell_type": "code",
   "execution_count": 9,
   "metadata": {},
   "outputs": [],
   "source": [
    "center_letter = input(\"Enter center letter:\")\n",
    "letters = input(\"Enter remaning letters:\")\n",
    "all_letters = center_letter + letters"
   ]
  },
  {
   "cell_type": "code",
   "execution_count": 10,
   "metadata": {},
   "outputs": [],
   "source": [
    "\n",
    "sorted_words = [i for i in web_data if all(c in all_letters for c in i)]\n",
    "filter_list = list(filter(lambda x: all(c in x for c in center_letter), sorted_words))\n",
    "final_list = [x for x in filter_list if len(x) >= 4]"
   ]
  },
  {
   "cell_type": "code",
   "execution_count": 11,
   "metadata": {},
   "outputs": [],
   "source": [
    "anagram_string = \"\".join(all_letters)\n",
    "anagram_list = list(filter(lambda x: all(c in x for c in anagram_string), final_list))"
   ]
  },
  {
   "cell_type": "code",
   "execution_count": 12,
   "metadata": {},
   "outputs": [
    {
     "name": "stdout",
     "output_type": "stream",
     "text": [
      "The anagrams are: ['impellent', 'implement', 'pimentel']\n",
      "The words are: ['elem', 'eleme', 'element', 'elemi', 'elemin', 'eltime', 'emetin', 'emetine', 'eminent', 'emit', 'emittent', 'empeine', 'empt', 'enlimn', 'entemple', 'entitlement', 'ilmenite', 'ilmenitite', 'imelle', 'imine', 'imit', 'immi', 'imminent', 'immit', 'impel', 'impellent', 'impen', 'impenitent', 'impent', 'impi', 'implement', 'implete', 'intime', 'item', 'leetmen', 'leme', 'lemel', 'lime', 'limen', 'limettin', 'limine', 'limit', 'limli', 'limn', 'limnite', 'limp', 'limpet', 'limpin', 'linemen', 'liniment', 'meet', 'meeten', 'meile', 'mein', 'meinie', 'mele', 'melee', 'melene', 'meletin', 'melilite', 'melilitite', 'meline', 'melinite', 'mellit', 'mellite', 'melpell', 'melt', 'mene', 'menilite', 'ment', 'mete', 'metel', 'metin', 'mettle', 'mien', 'milit', 'mille', 'millieme', 'millile', 'millime', 'milline', 'millmen', 'mimetene', 'mimetite', 'mimp', 'minim', 'miniment', 'minimi', 'minipill', 'mint', 'mite', 'mitt', 'mitten', 'mittent', 'mittle', 'mmmm', 'mnem', 'mneme', 'neem', 'nemine', 'nempne', 'nepmen', 'netmen', 'pellmell', 'pelmet', 'penintime', 'penmen', 'pentimenti', 'petemen', 'pilm', 'pimelite', 'piment', 'pimentel', 'pimp', 'pimple', 'pitmen', 'plim', 'teem', 'telemen', 'temene', 'temin', 'tempete', 'tempi', 'templet', 'tempt', 'tenement', 'timeliine', 'timet', 'tinemen', 'tinmen', 'tipmen', 'titmen']\n"
     ]
    }
   ],
   "source": [
    "print(\"The anagrams are:\",anagram_list)\n",
    "print(\"The words are:\",final_list)"
   ]
  }
 ],
 "metadata": {
  "kernelspec": {
   "display_name": "Python 3",
   "language": "python",
   "name": "python3"
  },
  "language_info": {
   "codemirror_mode": {
    "name": "ipython",
    "version": 3
   },
   "file_extension": ".py",
   "mimetype": "text/x-python",
   "name": "python",
   "nbconvert_exporter": "python",
   "pygments_lexer": "ipython3",
   "version": "3.10.8 (main, Nov  1 2022, 14:18:21) [GCC 12.2.0]"
  },
  "orig_nbformat": 4,
  "vscode": {
   "interpreter": {
    "hash": "767d51c1340bd893661ea55ea3124f6de3c7a262a8b4abca0554b478b1e2ff90"
   }
  }
 },
 "nbformat": 4,
 "nbformat_minor": 2
}
