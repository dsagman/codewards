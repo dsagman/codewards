{
 "cells": [
  {
   "cell_type": "code",
   "execution_count": null,
   "metadata": {
    "vscode": {
     "languageId": "plaintext"
    }
   },
   "outputs": [],
   "source": [
    "dictionary = 'words_alpha.txt'\n",
    "dictionary ='/usr/share/dict/words'\n",
    "with open(dictionary) as f:\n",
    "    words = f.read().splitlines()"
   ]
  }
 ],
 "metadata": {
  "language_info": {
   "name": "python"
  }
 },
 "nbformat": 4,
 "nbformat_minor": 2
}
