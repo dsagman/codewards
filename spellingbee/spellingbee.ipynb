{
 "cells": [
  {
   "cell_type": "code",
   "execution_count": 2,
   "metadata": {},
   "outputs": [],
   "source": [
    "dictionary = 'words_alpha.txt'\n",
    "# dictionary ='/usr/share/dict/words'\n",
    "with open(dictionary) as f:\n",
    "    words = f.read().splitlines()"
   ]
  },
  {
   "cell_type": "code",
   "execution_count": 12,
   "metadata": {},
   "outputs": [
    {
     "data": {
      "text/plain": [
       "['diddy',\n",
       " 'didy',\n",
       " 'didym',\n",
       " 'didymoid',\n",
       " 'dido',\n",
       " 'didromy',\n",
       " 'diiodid',\n",
       " 'diiodo',\n",
       " 'dimit',\n",
       " 'dimity',\n",
       " 'dimitry',\n",
       " 'dimmy',\n",
       " 'dimmit',\n",
       " 'dioti',\n",
       " 'dird',\n",
       " 'dirity',\n",
       " 'dirt',\n",
       " 'dirty',\n",
       " 'ditt',\n",
       " 'ditty',\n",
       " 'ditto',\n",
       " 'doit',\n",
       " 'domoid',\n",
       " 'dori',\n",
       " 'dormitory',\n",
       " 'droit',\n",
       " 'dromioid',\n",
       " 'dromoi',\n",
       " 'iddio',\n",
       " 'idiom',\n",
       " 'idiot',\n",
       " 'idiotry',\n",
       " 'yird',\n",
       " 'yirm',\n",
       " 'yirr',\n",
       " 'imid',\n",
       " 'imido',\n",
       " 'imit',\n",
       " 'immi',\n",
       " 'immy',\n",
       " 'immit',\n",
       " 'iodid',\n",
       " 'iodo',\n",
       " 'yomim',\n",
       " 'irid',\n",
       " 'irido',\n",
       " 'iridomotor',\n",
       " 'iridotomy',\n",
       " 'itmo',\n",
       " 'middy',\n",
       " 'midi',\n",
       " 'mimi',\n",
       " 'mimir',\n",
       " 'mimmood',\n",
       " 'myoid',\n",
       " 'mird',\n",
       " 'miri',\n",
       " 'miry',\n",
       " 'mirid',\n",
       " 'miro',\n",
       " 'mirror',\n",
       " 'mirrory',\n",
       " 'mity',\n",
       " 'mitt',\n",
       " 'mitty',\n",
       " 'modi',\n",
       " 'moid',\n",
       " 'moio',\n",
       " 'moir',\n",
       " 'moit',\n",
       " 'moity',\n",
       " 'momi',\n",
       " 'moodir',\n",
       " 'moriori',\n",
       " 'mormyrid',\n",
       " 'mormyroid',\n",
       " 'mortorio',\n",
       " 'oddity',\n",
       " 'oidioid',\n",
       " 'omit',\n",
       " 'ooid',\n",
       " 'ootid',\n",
       " 'otomi',\n",
       " 'ototoi',\n",
       " 'ridotto',\n",
       " 'rimy',\n",
       " 'riot',\n",
       " 'riotry',\n",
       " 'riroriro',\n",
       " 'roid',\n",
       " 'roit',\n",
       " 'rooti',\n",
       " 'rori',\n",
       " 'rorid',\n",
       " 'roti',\n",
       " 'tiddy',\n",
       " 'tidi',\n",
       " 'tidy',\n",
       " 'timid',\n",
       " 'timidity',\n",
       " 'timo',\n",
       " 'timor',\n",
       " 'tiro',\n",
       " 'tyroid',\n",
       " 'tirr',\n",
       " 'tirrit',\n",
       " 'titi',\n",
       " 'titty',\n",
       " 'toit',\n",
       " 'toity',\n",
       " 'toitoi',\n",
       " 'tomtit',\n",
       " 'tori',\n",
       " 'torii',\n",
       " 'toroid',\n",
       " 'torrid',\n",
       " 'torridity',\n",
       " 'trid',\n",
       " 'tridii',\n",
       " 'trim',\n",
       " 'trimotor',\n",
       " 'trio',\n",
       " 'trior',\n",
       " 'trit',\n",
       " 'tritor',\n",
       " 'trottoir']"
      ]
     },
     "execution_count": 12,
     "metadata": {},
     "output_type": "execute_result"
    }
   ],
   "source": [
    "c = 'i'\n",
    "s = 'todrym'\n",
    "x = [w for w in words if len(w) > 3 and c in w and set(w) <= set(c+s)]\n",
    "x"
   ]
  },
  {
   "cell_type": "code",
   "execution_count": 10,
   "metadata": {},
   "outputs": [
    {
     "data": {
      "text/plain": [
       "True"
      ]
     },
     "execution_count": 10,
     "metadata": {},
     "output_type": "execute_result"
    }
   ],
   "source": [
    "len(x)"
   ]
  },
  {
   "cell_type": "code",
   "execution_count": null,
   "metadata": {},
   "outputs": [],
   "source": []
  }
 ],
 "metadata": {
  "kernelspec": {
   "display_name": "Python 3 (ipykernel)",
   "language": "python",
   "name": "python3"
  },
  "language_info": {
   "codemirror_mode": {
    "name": "ipython",
    "version": 3
   },
   "file_extension": ".py",
   "mimetype": "text/x-python",
   "name": "python",
   "nbconvert_exporter": "python",
   "pygments_lexer": "ipython3",
   "version": "3.11.6"
  }
 },
 "nbformat": 4,
 "nbformat_minor": 4
}
