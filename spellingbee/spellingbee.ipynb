{
 "cells": [
  {
   "cell_type": "code",
   "execution_count": 10,
   "metadata": {},
   "outputs": [],
   "source": [
    "CTR = 'i'\n",
    "SIX = 'todrym'\n",
    "\n",
    "dictionary = 'words_alpha.txt'\n",
    "# dictionary ='/usr/share/dict/words'\n",
    "with open(dictionary) as f:\n",
    "    words = f.read().splitlines()"
   ]
  },
  {
   "cell_type": "code",
   "execution_count": 20,
   "metadata": {},
   "outputs": [
    {
     "name": "stdout",
     "output_type": "stream",
     "text": [
      "Found 126 words. Pangram: ['dormitory', 'iridotomy'].\n"
     ]
    }
   ],
   "source": [
    "solution = [w for w in words if len(w) > 3 and CTR in w and set(w) <= set(CTR+SIX)]\n",
    "pangram = [w for w in solution if set(w) == set(CTR+SIX)]\n",
    "print(f'Found {len(solution)} words. Pangram: {pangram}.')"
   ]
  },
  {
   "cell_type": "code",
   "execution_count": 19,
   "metadata": {},
   "outputs": [
    {
     "name": "stdout",
     "output_type": "stream",
     "text": [
      "Not six: ['a', 'b', 'c', 'e', 'f', 'g', 'h', 'j', 'k', 'l', 'n', 'p', 'q', 's', 'u', 'v', 'w', 'x', 'z']\n",
      "Found 126 words. Pangram: ['dormitory', 'iridotomy'].\n"
     ]
    }
   ],
   "source": [
    "alphabet = 'abcdefghijklmnopqrstuvwxyz'\n",
    "not_SIX = []\n",
    "for a in alphabet:\n",
    "    ok = True\n",
    "    if a == CTR:\n",
    "        continue\n",
    "    for s in SIX:\n",
    "        if a == s:\n",
    "            ok = False\n",
    "            break\n",
    "    if ok:\n",
    "        not_SIX.append(a)\n",
    "\n",
    "solution = []\n",
    "for w in words:\n",
    "    center_ok = False\n",
    "    six_ok = True\n",
    "    six_count = 0\n",
    "    word_len = 0\n",
    "    for c in w:\n",
    "        word_len += 1\n",
    "        if c == CTR:\n",
    "            center_ok = True\n",
    "            continue\n",
    "        for s in not_SIX:\n",
    "            if c == s:\n",
    "                six_ok = False\n",
    "                break\n",
    "    if center_ok and six_ok and word_len > 3:\n",
    "        solution.append(w)  \n",
    "\n",
    "pangram = []\n",
    "for w in solution:\n",
    "    six_count = 0\n",
    "    for s in SIX:\n",
    "        for c in w:\n",
    "            if c == s:\n",
    "                six_count += 1\n",
    "                break\n",
    "    if six_count == 6:\n",
    "        pangram.append(w)\n",
    "\n",
    "print(f'Not six: {not_SIX}')\n",
    "print(f'Found {len(solution)} words. Pangram: {pangram}.')\n",
    "        \n"
   ]
  },
  {
   "cell_type": "code",
   "execution_count": null,
   "metadata": {},
   "outputs": [],
   "source": []
  }
 ],
 "metadata": {
  "kernelspec": {
   "display_name": ".venv",
   "language": "python",
   "name": "python3"
  },
  "language_info": {
   "codemirror_mode": {
    "name": "ipython",
    "version": 3
   },
   "file_extension": ".py",
   "mimetype": "text/x-python",
   "name": "python",
   "nbconvert_exporter": "python",
   "pygments_lexer": "ipython3",
   "version": "3.12.7"
  }
 },
 "nbformat": 4,
 "nbformat_minor": 4
}
